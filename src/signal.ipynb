{
 "cells": [
  {
   "cell_type": "markdown",
   "metadata": {},
   "source": [
    "# ISS project 22/23"
   ]
  },
  {
   "cell_type": "markdown",
   "metadata": {},
   "source": [
    "## Import libraries"
   ]
  },
  {
   "cell_type": "code",
   "execution_count": 14,
   "metadata": {},
   "outputs": [],
   "source": [
    "import numpy as np\n",
    "import soundfile as sf\n",
    "import matplotlib.pyplot as plt"
   ]
  },
  {
   "cell_type": "markdown",
   "metadata": {},
   "source": [
    "## Start parsing"
   ]
  },
  {
   "cell_type": "code",
   "execution_count": 15,
   "metadata": {},
   "outputs": [],
   "source": [
    "MIDIFROM = 24\n",
    "MIDITO = 108\n",
    "SKIP_SEC = 0.25\n",
    "HOWMUCH_SEC = 0.5\n",
    "WHOLETONE_SEC = 2\n",
    "\n",
    "howmanytones = MIDITO - MIDIFROM + 1\n",
    "tones = np.arange(MIDIFROM, MIDITO+1)\n",
    "s, Fs = sf.read('../audio/klavir.wav')\n",
    "N = int(Fs * HOWMUCH_SEC)\n",
    "Nwholetone = int(Fs * WHOLETONE_SEC)\n",
    "# matrix with all tones - first signals empty, but we have plenty of memory\n",
    "xall = np.zeros((MIDITO+1, N))\n",
    "samplefrom = int(SKIP_SEC * Fs)\n",
    "sampleto = samplefrom + N\n",
    "\n",
    "for tone in tones:\n",
    "    x = s[samplefrom:sampleto]\n",
    "    # safer to center\n",
    "    x = x - np.mean(x)\n",
    "    xall[tone,:] = x\n",
    "    samplefrom += Nwholetone\n",
    "    sampleto += Nwholetone\n"
   ]
  },
  {
   "cell_type": "markdown",
   "metadata": {},
   "source": [
    "## Draw a plot for *klavir3.wav* file"
   ]
  }
 ],
 "metadata": {
  "kernelspec": {
   "display_name": "Python 3.10.8 64-bit",
   "language": "python",
   "name": "python3"
  },
  "language_info": {
   "codemirror_mode": {
    "name": "ipython",
    "version": 3
   },
   "file_extension": ".py",
   "mimetype": "text/x-python",
   "name": "python",
   "nbconvert_exporter": "python",
   "pygments_lexer": "ipython3",
   "version": "3.10.8"
  },
  "orig_nbformat": 4,
  "vscode": {
   "interpreter": {
    "hash": "e7370f93d1d0cde622a1f8e1c04877d8463912d04d973331ad4851f04de6915a"
   }
  }
 },
 "nbformat": 4,
 "nbformat_minor": 2
}
